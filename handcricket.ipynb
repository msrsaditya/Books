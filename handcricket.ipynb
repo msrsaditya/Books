{
 "cells": [
  {
   "cell_type": "code",
   "execution_count": 1,
   "id": "0dab8910-202d-46d7-affd-d3b7c5703d7f",
   "metadata": {
    "scrolled": true
   },
   "outputs": [
    {
     "name": "stdin",
     "output_type": "stream",
     "text": [
      "Choose Odd (1) or Eve (2) 1\n",
      "Enter a Number for toss:  3\n"
     ]
    },
    {
     "name": "stdout",
     "output_type": "stream",
     "text": [
      "Computer played : 8\n",
      "Player Won\n"
     ]
    },
    {
     "name": "stdin",
     "output_type": "stream",
     "text": [
      "Enter a Number:  1\n"
     ]
    },
    {
     "name": "stdout",
     "output_type": "stream",
     "text": [
      "Computer played 8\n"
     ]
    },
    {
     "name": "stdin",
     "output_type": "stream",
     "text": [
      "Enter a Number:  1\n"
     ]
    },
    {
     "name": "stdout",
     "output_type": "stream",
     "text": [
      "Computer played 10\n"
     ]
    },
    {
     "name": "stdin",
     "output_type": "stream",
     "text": [
      "Enter a Number:  1\n"
     ]
    },
    {
     "name": "stdout",
     "output_type": "stream",
     "text": [
      "Computer played 5\n"
     ]
    },
    {
     "name": "stdin",
     "output_type": "stream",
     "text": [
      "Enter a Number:  1\n"
     ]
    },
    {
     "name": "stdout",
     "output_type": "stream",
     "text": [
      "Computer played 6\n"
     ]
    },
    {
     "name": "stdin",
     "output_type": "stream",
     "text": [
      "Enter a Number:  1\n"
     ]
    },
    {
     "name": "stdout",
     "output_type": "stream",
     "text": [
      "Computer played 2\n"
     ]
    },
    {
     "name": "stdin",
     "output_type": "stream",
     "text": [
      "Enter a Number:  1\n"
     ]
    },
    {
     "name": "stdout",
     "output_type": "stream",
     "text": [
      "Computer played 6\n"
     ]
    },
    {
     "name": "stdin",
     "output_type": "stream",
     "text": [
      "Enter a Number:  1\n"
     ]
    },
    {
     "name": "stdout",
     "output_type": "stream",
     "text": [
      "Computer played 8\n"
     ]
    },
    {
     "name": "stdin",
     "output_type": "stream",
     "text": [
      "Enter a Number:  1\n"
     ]
    },
    {
     "name": "stdout",
     "output_type": "stream",
     "text": [
      "Computer played 8\n"
     ]
    },
    {
     "name": "stdin",
     "output_type": "stream",
     "text": [
      "Enter a Number:  1\n"
     ]
    },
    {
     "name": "stdout",
     "output_type": "stream",
     "text": [
      "Computer played 1\n",
      "Player game completed\n"
     ]
    },
    {
     "name": "stdin",
     "output_type": "stream",
     "text": [
      "Enter a Number:  1\n"
     ]
    },
    {
     "name": "stdout",
     "output_type": "stream",
     "text": [
      "Computer played 8\n"
     ]
    },
    {
     "name": "stdin",
     "output_type": "stream",
     "text": [
      "Enter a Number:  1\n"
     ]
    },
    {
     "name": "stdout",
     "output_type": "stream",
     "text": [
      "Computer played 6\n"
     ]
    },
    {
     "name": "stdin",
     "output_type": "stream",
     "text": [
      "Enter a Number:  1\n"
     ]
    },
    {
     "name": "stdout",
     "output_type": "stream",
     "text": [
      "Computer played 1\n",
      "computer game completed\n",
      "Computer Won 15 9\n"
     ]
    }
   ],
   "source": [
    "import random\n",
    "def toss():\n",
    "    playertoss=int(input(\"Choose Odd (1) or Eve (2)\"))\n",
    "    if playertoss==1:\n",
    "        computertoss=2\n",
    "        playertosseve=False\n",
    "    else:\n",
    "        computertoss=1\n",
    "        playertosseve=True\n",
    "    player = int(input(\"Enter a Number for toss: \"))\n",
    "    computer = random.randint(1, 10)\n",
    "    print(\"Computer played : {}\".format(computer))\n",
    "    if (player+computer)%2==0 and playertosseve==True or (player+computer)%2!=0 and playertosseve==False:\n",
    "        result=\"Player Won\"\n",
    "    else:\n",
    "        result=\"Computer Won\"\n",
    "    return result\n",
    "whowon=toss()\n",
    "print(whowon)\n",
    "def playgame():\n",
    "    playerscore=0\n",
    "    computerscore=0\n",
    "    player = int(input(\"Enter a Number: \"))\n",
    "    playerscore+=player\n",
    "    computer = random.randint(1, 10)\n",
    "    computerscore+=computer\n",
    "    print(\"Computer played {}\".format(computer))\n",
    "    while computer!=player:\n",
    "        player = int(input(\"Enter a Number: \"))\n",
    "        playerscore+=player\n",
    "        computer = random.randint(1, 10)\n",
    "        computerscore+=computer\n",
    "        print(\"Computer played {}\".format(computer))\n",
    "        if computer==player:\n",
    "            break\n",
    "    return playerscore,computerscore\n",
    "if whowon==\"Player Won\":\n",
    "    playerscore=playgame()[0]\n",
    "    print(\"Player game completed\")\n",
    "    computerscore=playgame()[1]\n",
    "    print(\"computer game completed\")\n",
    "    if playerscore>=computerscore:\n",
    "        print(\"Player Won {} {}\".format(playerscore,computerscore))\n",
    "    else:\n",
    "        print(\"Computer Won {} {}\".format(computerscore,playerscore))\n",
    "if whowon==\"Computer Won\":\n",
    "    computerscore=playgame()[1]\n",
    "    print(\"computer game completed\")\n",
    "    playerscore=playgame()[0]\n",
    "    print(\"Player game completed\")\n",
    "    if playerscore>=computerscore:\n",
    "        print(\"Player Won {} {}\".format(playerscore,computerscore))\n",
    "    else:\n",
    "        print(\"Computer Won {} {}\".format(computerscore,playerscore))"
   ]
  }
 ],
 "metadata": {
  "kernelspec": {
   "display_name": "Python 3 (ipykernel)",
   "language": "python",
   "name": "python3"
  },
  "language_info": {
   "codemirror_mode": {
    "name": "ipython",
    "version": 3
   },
   "file_extension": ".py",
   "mimetype": "text/x-python",
   "name": "python",
   "nbconvert_exporter": "python",
   "pygments_lexer": "ipython3",
   "version": "3.12.1"
  }
 },
 "nbformat": 4,
 "nbformat_minor": 5
}
